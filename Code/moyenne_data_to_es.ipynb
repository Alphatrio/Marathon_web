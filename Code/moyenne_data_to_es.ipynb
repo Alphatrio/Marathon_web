{
 "cells": [
  {
   "cell_type": "code",
   "execution_count": 1,
   "id": "3ff2cf83",
   "metadata": {},
   "outputs": [],
   "source": [
    "import pandas as pd\n",
    "from elasticsearch import Elasticsearch, helpers\n",
    "import os\n",
    "import json\n",
    "from datetime import datetime\n",
    "from os import walk"
   ]
  },
  {
   "cell_type": "code",
   "execution_count": 2,
   "id": "965044ce",
   "metadata": {},
   "outputs": [],
   "source": [
    "es = Elasticsearch(\n",
    "    cloud_id='MarathonDuWeb:dXMtY2VudHJhbDEuZ2NwLmNsb3VkLmVzLmlvJGZhMzJkNzYyNzFjYzQ4OTRhNjk2ZWQ4NTVhYjkwMDgyJGZjOTk1YzA0ZmYyYjQ5ZmM4OTliYjAwODNkYzA5N2U0',\n",
    "    basic_auth=('elastic', 'QjTCAIOmAkkqqTIGjeEeD63q')\n",
    ")"
   ]
  },
  {
   "cell_type": "code",
   "execution_count": 3,
   "id": "f2a660d1",
   "metadata": {
    "scrolled": true
   },
   "outputs": [
    {
     "name": "stderr",
     "output_type": "stream",
     "text": [
      "<ipython-input-3-5c5131b72d04>:15: SettingWithCopyWarning: \n",
      "A value is trying to be set on a copy of a slice from a DataFrame\n",
      "\n",
      "See the caveats in the documentation: https://pandas.pydata.org/pandas-docs/stable/user_guide/indexing.html#returning-a-view-versus-a-copy\n",
      "  data['Heure'][row] = data['Heure'][row][0:2]\n",
      "<ipython-input-3-5c5131b72d04>:17: SettingWithCopyWarning: \n",
      "A value is trying to be set on a copy of a slice from a DataFrame\n",
      "\n",
      "See the caveats in the documentation: https://pandas.pydata.org/pandas-docs/stable/user_guide/indexing.html#returning-a-view-versus-a-copy\n",
      "  data['Heure'][row] = date_time_obj.time()\n"
     ]
    }
   ],
   "source": [
    "listeFichiers = []\n",
    "monRepertoire = '../Data/MoyenJH'\n",
    "for (repertoire, sousRepertoires, fichiers) in walk(monRepertoire):\n",
    "     listeFichiers.extend(fichiers)\n",
    "listeFichiers\n",
    "for fichier in listeFichiers:\n",
    "    path_fichier = monRepertoire+'/'+fichier\n",
    "    data = pd.read_csv(path_fichier)\n",
    "    nom_fichier = os.path.basename(path_fichier) \n",
    "    if len(nom_fichier)==19:\n",
    "        nom_parking = nom_fichier[len(nom_fichier)-8:len(nom_fichier)-4]\n",
    "    else:\n",
    "        nom_parking = nom_fichier[len(nom_fichier)-9:len(nom_fichier)-4]\n",
    "    for row in data.index:\n",
    "        data['Heure'][row] = data['Heure'][row][0:2]\n",
    "        date_time_obj = datetime.strptime(data['Heure'][row] ,'%H')\n",
    "        data['Heure'][row] = date_time_obj.time()\n",
    "    aggregation_functions = {'Heure': 'first', 'Dimanche': 'mean', 'Jeudi': 'mean', 'Lundi':'mean','Mardi':'mean','Mercredi':'mean','Samedi':'mean','Vendredi':'mean'}\n",
    "    data = data.groupby(data['Heure']).aggregate(aggregation_functions)\n",
    "    data['Heure'] = data['Heure'].astype(str)\n",
    "    dic_to_es = {}\n",
    "    dic_to_es  = {'Parking' : nom_parking, 'Jours' : []}\n",
    "    for column in data[['Dimanche','Jeudi','Lundi','Mardi','Mercredi','Samedi','Vendredi']]:\n",
    "        temp_jour_dic = {'Jour' : column, 'Données': []}\n",
    "        for row in data.index:\n",
    "            temp_data_dic = {'Heure': data['Heure'][row], 'Places_libres':data[column][row]}\n",
    "            temp_jour_dic['Données'].append(temp_data_dic)\n",
    "        dic_to_es['Jours'].append(temp_jour_dic)\n",
    "    with open('../MontpelYeah/static/data/'+nom_parking+'.json','w') as fp:\n",
    "        json.dump(dic_to_es,fp)\n",
    "    #es.index(\n",
    "        #index='moyenne_jour_index',\n",
    "        #document=dic_to_es)\n",
    "    \n",
    "    \n",
    "   "
   ]
  },
  {
   "cell_type": "markdown",
   "id": "fb5dc6cc",
   "metadata": {},
   "source": [
    "data = pd.read_csv('../Data/MoyenJH/MoyenFreeJHANTI.csv')\n",
    "data"
   ]
  },
  {
   "cell_type": "markdown",
   "id": "d805a9f3",
   "metadata": {},
   "source": [
    "for row in data.index:\n",
    "    #print(data['Heure'][row][0:2])\n",
    "    data['Heure'][row] = data['Heure'][row][0:2]\n",
    "    date_time_obj = datetime.strptime(data['Heure'][row] ,'%H')\n",
    "    data['Heure'][row] = date_time_obj.time()\n",
    "data"
   ]
  },
  {
   "cell_type": "markdown",
   "id": "cc5583ca",
   "metadata": {},
   "source": [
    "print(type(data['Heure'][0]))\n",
    "data['Heure'][0]=data['Heure'].dt.round('60min')\n",
    "data"
   ]
  },
  {
   "cell_type": "markdown",
   "id": "a6aca1ee",
   "metadata": {},
   "source": [
    "#print(type(data['Heure'][0]))\n",
    "#data = data.set_index('Heure')\n",
    "data = data.set_index(pd.DatetimeIndex(data['Heure']))\n",
    "print(data)\n",
    "data.round('H')\n",
    "#print(data)\n",
    "#print(data.columns.values)\n",
    "#data.resample('H',on='Heure').Dimanche.sum()\n"
   ]
  },
  {
   "cell_type": "markdown",
   "id": "c8dfa7ec",
   "metadata": {},
   "source": [
    "aggregation_functions = {'Heure': 'first', 'Dimanche': 'mean', 'Jeudi': 'mean', 'Lundi':'mean','Mardi':'mean','Mercredi':'mean','Samedi':'mean','Vendredi':'mean'}\n",
    "data = data.groupby(data['Heure']).aggregate(aggregation_functions)\n",
    "data"
   ]
  },
  {
   "cell_type": "markdown",
   "id": "9064d7c2",
   "metadata": {},
   "source": [
    "data['Heure'] = data['Heure'].astype(str)\n",
    "type(data['Heure'][0])"
   ]
  },
  {
   "cell_type": "markdown",
   "id": "c60e7ce2",
   "metadata": {},
   "source": [
    "nom_fichier = os.path.basename(\"../Data/MoyenJH/MoyenFreeJHANTI.csv\")\n",
    "nom_parking = nom_fichier[len(nom_fichier)-9:len(nom_fichier)-4]\n",
    "nom_parking"
   ]
  },
  {
   "cell_type": "markdown",
   "id": "0cd5d253",
   "metadata": {},
   "source": [
    "for row in data.index:\n",
    "    print(data['Heure'][row])"
   ]
  },
  {
   "cell_type": "markdown",
   "id": "85003a9f",
   "metadata": {},
   "source": [
    "dic_to_es = {}\n",
    "dic_to_es  = {'Parking' : nom_parking, 'Jours' : []}\n",
    "for column in data[['Dimanche','Jeudi','Lundi','Mardi','Mercredi','Samedi','Vendredi']]:\n",
    "    temp_jour_dic = {'Jour' : column, 'Données': []}\n",
    "    for row in data.index:\n",
    "        #print(data['Heure'][row])\n",
    "        #print(type(data['Heure'][row]))\n",
    "        temp_data_dic = {'Heure': data['Heure'][row], 'Places_libres':data[column][row]}\n",
    "        temp_jour_dic['Données'].append(temp_data_dic)\n",
    "    dic_to_es['Jours'].append(temp_jour_dic)\n",
    "#print(dic_to_es)"
   ]
  },
  {
   "cell_type": "markdown",
   "id": "9d16cdeb",
   "metadata": {},
   "source": [
    "dic_to_es"
   ]
  },
  {
   "cell_type": "markdown",
   "id": "3ad2dd2f",
   "metadata": {},
   "source": [
    "json_object = json.dumps(dic_to_es)\n",
    "print(json_object)"
   ]
  }
 ],
 "metadata": {
  "kernelspec": {
   "display_name": "Python 3",
   "language": "python",
   "name": "python3"
  },
  "language_info": {
   "codemirror_mode": {
    "name": "ipython",
    "version": 3
   },
   "file_extension": ".py",
   "mimetype": "text/x-python",
   "name": "python",
   "nbconvert_exporter": "python",
   "pygments_lexer": "ipython3",
   "version": "3.8.8"
  }
 },
 "nbformat": 4,
 "nbformat_minor": 5
}
