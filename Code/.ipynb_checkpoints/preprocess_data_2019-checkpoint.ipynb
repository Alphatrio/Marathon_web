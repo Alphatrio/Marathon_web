{
 "cells": [
  {
   "cell_type": "code",
   "execution_count": 1,
   "id": "fac400bb",
   "metadata": {},
   "outputs": [],
   "source": [
    "import pandas as pd"
   ]
  },
  {
   "cell_type": "code",
   "execution_count": 2,
   "id": "fe4d8b83",
   "metadata": {},
   "outputs": [
    {
     "name": "stdout",
     "output_type": "stream",
     "text": [
      "       Park Name        Park DateTime Park Status  Occupated  Total\n",
      "0           ANTI  01/01/2019 01:00:00        Open         36    239\n",
      "1           ANTI  01/01/2019 01:20:00        Open         34    239\n",
      "2           ANTI  01/01/2019 01:40:00        Open         34    239\n",
      "3           ANTI  01/01/2019 02:00:00        Open         30    239\n",
      "4           ANTI  01/01/2019 02:20:00        Open         29    239\n",
      "...          ...                  ...         ...        ...    ...\n",
      "430259      VICA  31/12/2019 23:20:00        Open         10    150\n",
      "430260      VICA  31/12/2019 23:40:00        Open         10    150\n",
      "430261      VICA  01/01/2020 00:00:00        Open         10    150\n",
      "430262      VICA  01/01/2020 00:20:00        Open         10    150\n",
      "430263      VICA  01/01/2020 00:40:00        Open         10    150\n",
      "\n",
      "[409377 rows x 5 columns]\n",
      "['ANTI' 'ARCT' 'CDGA' 'CIRC' 'COME' 'CORU' 'EURO' 'FOCH' 'GAMB' 'GARD'\n",
      " 'GARE' 'GAUMONT-OUEST' 'MEDC' 'MOSS' 'OCCI' 'Pitot' 'SABI' 'SABL' 'SJLC'\n",
      " 'Triangle' 'VICA']\n",
      "['ANTI' 'ARCT' 'CDGA' 'CIRC' 'COME' 'CORU' 'EURO' 'FOCH' 'GAMB' 'GARC'\n",
      " 'GARE' 'GA250' 'MEDC' 'MOSS' 'OCCI' 'PITO' 'SABI' 'SABL' 'SJLC' 'TRIA'\n",
      " 'VICA']\n"
     ]
    }
   ],
   "source": [
    "data = pd.read_csv('../Data/export-parking-MontpelYeah-2019.csv')\n",
    "indexNames = data[ data['Park Name'] == 'GAUMONT-EST' ].index\n",
    "data.drop(indexNames , inplace=True)\n",
    "print(data)\n",
    "print(data['Park Name'].unique())\n",
    "data['Park Name'] = data['Park Name'].replace(['GAUMONT-OUEST','Pitot','Triangle','GARD'], ['GA250','PITO','TRIA','GARC'])\n",
    "print(data['Park Name'].unique())"
   ]
  },
  {
   "cell_type": "code",
   "execution_count": 3,
   "id": "9f2b0bc9",
   "metadata": {},
   "outputs": [],
   "source": [
    "geo_loc_parking = {\n",
    "    'ANTI' : [3.888819,43.608716],\n",
    "    'COME' : [3.879762,43.608561],\n",
    "    'CORU' : [3.882258,43.613888],\n",
    "    'EURO' : [3.892531,43.607850],\n",
    "    'FOCH' : [3.876571,43.610749],\n",
    "    'GAMB' : [3.871374,43.606951],\n",
    "    'GARE' : [3.878551,43.603291],\n",
    "    'TRIA' : [3.881844,43.609234],\n",
    "    'ARCT' : [3.873201,43.611003],\n",
    "    'PITO' : [3.870191,43.612245],\n",
    "    'CIRC' : [3.917849,43.604954],\n",
    "    'SABI' : [3.860225,43.583833],\n",
    "    'GARC' : [3.890716,43.590985],\n",
    "    'SABL' : [3.922295,43.634192],\n",
    "    'MOSS' : [3.819666,43.616237],\n",
    "    'SJLC' : [3.837931,43.570822],\n",
    "    'MEDC' : [3.827724,43.638954],\n",
    "    'OCCI' : [3.848598,43.634562],\n",
    "    'VICA' : [3.898426,43.632771],\n",
    "    'GA250' : [3.914415,43.605344],\n",
    "    'CDGA' : [3.897762,43.628542],\n",
    "    'ARCE' : [3.867491,43.611716],\n",
    "    'POLY' : [3.884765,43.608371]}\n"
   ]
  },
  {
   "cell_type": "code",
   "execution_count": 4,
   "id": "884f0b59",
   "metadata": {},
   "outputs": [
    {
     "name": "stdout",
     "output_type": "stream",
     "text": [
      "21\n",
      "23\n"
     ]
    }
   ],
   "source": [
    "print(len(data['Park Name'].unique()))\n",
    "print(len(geo_loc_parking))"
   ]
  },
  {
   "cell_type": "code",
   "execution_count": 5,
   "id": "4084fded",
   "metadata": {},
   "outputs": [],
   "source": [
    "list_x = []\n",
    "list_y = []\n",
    "for row in data.index:\n",
    "    station = data['Park Name'][row]\n",
    "    for loc in geo_loc_parking:\n",
    "        if station==loc:\n",
    "            list_x.append(geo_loc_parking[station][0])\n",
    "            list_y.append(geo_loc_parking[station][1])"
   ]
  },
  {
   "cell_type": "code",
   "execution_count": 6,
   "id": "a7940d68",
   "metadata": {},
   "outputs": [
    {
     "name": "stdout",
     "output_type": "stream",
     "text": [
      "409377\n",
      "409377\n",
      "409377\n"
     ]
    }
   ],
   "source": [
    "print(len(data))\n",
    "print(len(list_x))\n",
    "print(len(list_y))"
   ]
  },
  {
   "cell_type": "code",
   "execution_count": 7,
   "id": "8eb3c638",
   "metadata": {},
   "outputs": [
    {
     "name": "stdout",
     "output_type": "stream",
     "text": [
      "       Park Name        Park DateTime Park Status  Occupated  Total     x_pos  \\\n",
      "0           ANTI  01/01/2019 01:00:00        Open         36    239  3.888819   \n",
      "1           ANTI  01/01/2019 01:20:00        Open         34    239  3.888819   \n",
      "2           ANTI  01/01/2019 01:40:00        Open         34    239  3.888819   \n",
      "3           ANTI  01/01/2019 02:00:00        Open         30    239  3.888819   \n",
      "4           ANTI  01/01/2019 02:20:00        Open         29    239  3.888819   \n",
      "...          ...                  ...         ...        ...    ...       ...   \n",
      "430259      VICA  31/12/2019 23:20:00        Open         10    150  3.898426   \n",
      "430260      VICA  31/12/2019 23:40:00        Open         10    150  3.898426   \n",
      "430261      VICA  01/01/2020 00:00:00        Open         10    150  3.898426   \n",
      "430262      VICA  01/01/2020 00:20:00        Open         10    150  3.898426   \n",
      "430263      VICA  01/01/2020 00:40:00        Open         10    150  3.898426   \n",
      "\n",
      "            y_pos  \n",
      "0       43.608716  \n",
      "1       43.608716  \n",
      "2       43.608716  \n",
      "3       43.608716  \n",
      "4       43.608716  \n",
      "...           ...  \n",
      "430259  43.632771  \n",
      "430260  43.632771  \n",
      "430261  43.632771  \n",
      "430262  43.632771  \n",
      "430263  43.632771  \n",
      "\n",
      "[409377 rows x 7 columns]\n"
     ]
    }
   ],
   "source": [
    "data['x_pos'] = list_x\n",
    "data['y_pos'] = list_y\n",
    "print(data)"
   ]
  },
  {
   "cell_type": "code",
   "execution_count": 8,
   "id": "7ae1419e",
   "metadata": {},
   "outputs": [],
   "source": [
    "data.to_csv('data_2019.csv')"
   ]
  }
 ],
 "metadata": {
  "kernelspec": {
   "display_name": "Python 3",
   "language": "python",
   "name": "python3"
  },
  "language_info": {
   "codemirror_mode": {
    "name": "ipython",
    "version": 3
   },
   "file_extension": ".py",
   "mimetype": "text/x-python",
   "name": "python",
   "nbconvert_exporter": "python",
   "pygments_lexer": "ipython3",
   "version": "3.8.8"
  }
 },
 "nbformat": 4,
 "nbformat_minor": 5
}
