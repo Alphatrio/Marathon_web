{
 "cells": [
  {
   "cell_type": "code",
   "execution_count": 1,
   "id": "755a2f6f",
   "metadata": {},
   "outputs": [],
   "source": [
    "import pandas as pd \n",
    "import numpy as np\n",
    "import matplotlib.pyplot as plt\n",
    "from operator import itemgetter, attrgetter"
   ]
  },
  {
   "cell_type": "markdown",
   "id": "c2b4be26",
   "metadata": {},
   "source": [
    "# IMPORRTATION DES DONNEES "
   ]
  },
  {
   "cell_type": "code",
   "execution_count": 2,
   "id": "c77e4035",
   "metadata": {},
   "outputs": [
    {
     "ename": "FileNotFoundError",
     "evalue": "[Errno 2] No such file or directory: 'data_2019.csv'",
     "output_type": "error",
     "traceback": [
      "\u001b[0;31m---------------------------------------------------------------------------\u001b[0m",
      "\u001b[0;31mFileNotFoundError\u001b[0m                         Traceback (most recent call last)",
      "\u001b[0;32m<ipython-input-2-b1308b24cc9a>\u001b[0m in \u001b[0;36m<module>\u001b[0;34m\u001b[0m\n\u001b[0;32m----> 1\u001b[0;31m \u001b[0mdata\u001b[0m \u001b[0;34m=\u001b[0m \u001b[0mpd\u001b[0m\u001b[0;34m.\u001b[0m\u001b[0mread_csv\u001b[0m\u001b[0;34m(\u001b[0m\u001b[0;34m\"data_2019.csv\"\u001b[0m\u001b[0;34m)\u001b[0m\u001b[0;34m\u001b[0m\u001b[0;34m\u001b[0m\u001b[0m\n\u001b[0m\u001b[1;32m      2\u001b[0m \u001b[0;34m\u001b[0m\u001b[0m\n\u001b[1;32m      3\u001b[0m \u001b[0mdata\u001b[0m \u001b[0;34m=\u001b[0m \u001b[0mdata\u001b[0m\u001b[0;34m.\u001b[0m\u001b[0mdrop\u001b[0m\u001b[0;34m(\u001b[0m\u001b[0;34m'Unnamed: 0'\u001b[0m\u001b[0;34m,\u001b[0m\u001b[0maxis\u001b[0m \u001b[0;34m=\u001b[0m \u001b[0;34m'columns'\u001b[0m\u001b[0;34m)\u001b[0m\u001b[0;34m\u001b[0m\u001b[0;34m\u001b[0m\u001b[0m\n\u001b[1;32m      4\u001b[0m \u001b[0;34m\u001b[0m\u001b[0m\n\u001b[1;32m      5\u001b[0m \u001b[0mdata\u001b[0m\u001b[0;34m[\u001b[0m\u001b[0;34m'Park DateTime'\u001b[0m\u001b[0;34m]\u001b[0m \u001b[0;34m=\u001b[0m \u001b[0mpd\u001b[0m\u001b[0;34m.\u001b[0m\u001b[0mto_datetime\u001b[0m\u001b[0;34m(\u001b[0m\u001b[0mdata\u001b[0m\u001b[0;34m[\u001b[0m\u001b[0;34m'Park DateTime'\u001b[0m\u001b[0;34m]\u001b[0m\u001b[0;34m)\u001b[0m\u001b[0;34m\u001b[0m\u001b[0;34m\u001b[0m\u001b[0m\n",
      "\u001b[0;32m~/opt/anaconda3/lib/python3.8/site-packages/pandas/util/_decorators.py\u001b[0m in \u001b[0;36mwrapper\u001b[0;34m(*args, **kwargs)\u001b[0m\n\u001b[1;32m    309\u001b[0m                     \u001b[0mstacklevel\u001b[0m\u001b[0;34m=\u001b[0m\u001b[0mstacklevel\u001b[0m\u001b[0;34m,\u001b[0m\u001b[0;34m\u001b[0m\u001b[0;34m\u001b[0m\u001b[0m\n\u001b[1;32m    310\u001b[0m                 )\n\u001b[0;32m--> 311\u001b[0;31m             \u001b[0;32mreturn\u001b[0m \u001b[0mfunc\u001b[0m\u001b[0;34m(\u001b[0m\u001b[0;34m*\u001b[0m\u001b[0margs\u001b[0m\u001b[0;34m,\u001b[0m \u001b[0;34m**\u001b[0m\u001b[0mkwargs\u001b[0m\u001b[0;34m)\u001b[0m\u001b[0;34m\u001b[0m\u001b[0;34m\u001b[0m\u001b[0m\n\u001b[0m\u001b[1;32m    312\u001b[0m \u001b[0;34m\u001b[0m\u001b[0m\n\u001b[1;32m    313\u001b[0m         \u001b[0;32mreturn\u001b[0m \u001b[0mwrapper\u001b[0m\u001b[0;34m\u001b[0m\u001b[0;34m\u001b[0m\u001b[0m\n",
      "\u001b[0;32m~/opt/anaconda3/lib/python3.8/site-packages/pandas/io/parsers/readers.py\u001b[0m in \u001b[0;36mread_csv\u001b[0;34m(filepath_or_buffer, sep, delimiter, header, names, index_col, usecols, squeeze, prefix, mangle_dupe_cols, dtype, engine, converters, true_values, false_values, skipinitialspace, skiprows, skipfooter, nrows, na_values, keep_default_na, na_filter, verbose, skip_blank_lines, parse_dates, infer_datetime_format, keep_date_col, date_parser, dayfirst, cache_dates, iterator, chunksize, compression, thousands, decimal, lineterminator, quotechar, quoting, doublequote, escapechar, comment, encoding, encoding_errors, dialect, error_bad_lines, warn_bad_lines, on_bad_lines, delim_whitespace, low_memory, memory_map, float_precision, storage_options)\u001b[0m\n\u001b[1;32m    584\u001b[0m     \u001b[0mkwds\u001b[0m\u001b[0;34m.\u001b[0m\u001b[0mupdate\u001b[0m\u001b[0;34m(\u001b[0m\u001b[0mkwds_defaults\u001b[0m\u001b[0;34m)\u001b[0m\u001b[0;34m\u001b[0m\u001b[0;34m\u001b[0m\u001b[0m\n\u001b[1;32m    585\u001b[0m \u001b[0;34m\u001b[0m\u001b[0m\n\u001b[0;32m--> 586\u001b[0;31m     \u001b[0;32mreturn\u001b[0m \u001b[0m_read\u001b[0m\u001b[0;34m(\u001b[0m\u001b[0mfilepath_or_buffer\u001b[0m\u001b[0;34m,\u001b[0m \u001b[0mkwds\u001b[0m\u001b[0;34m)\u001b[0m\u001b[0;34m\u001b[0m\u001b[0;34m\u001b[0m\u001b[0m\n\u001b[0m\u001b[1;32m    587\u001b[0m \u001b[0;34m\u001b[0m\u001b[0m\n\u001b[1;32m    588\u001b[0m \u001b[0;34m\u001b[0m\u001b[0m\n",
      "\u001b[0;32m~/opt/anaconda3/lib/python3.8/site-packages/pandas/io/parsers/readers.py\u001b[0m in \u001b[0;36m_read\u001b[0;34m(filepath_or_buffer, kwds)\u001b[0m\n\u001b[1;32m    480\u001b[0m \u001b[0;34m\u001b[0m\u001b[0m\n\u001b[1;32m    481\u001b[0m     \u001b[0;31m# Create the parser.\u001b[0m\u001b[0;34m\u001b[0m\u001b[0;34m\u001b[0m\u001b[0;34m\u001b[0m\u001b[0m\n\u001b[0;32m--> 482\u001b[0;31m     \u001b[0mparser\u001b[0m \u001b[0;34m=\u001b[0m \u001b[0mTextFileReader\u001b[0m\u001b[0;34m(\u001b[0m\u001b[0mfilepath_or_buffer\u001b[0m\u001b[0;34m,\u001b[0m \u001b[0;34m**\u001b[0m\u001b[0mkwds\u001b[0m\u001b[0;34m)\u001b[0m\u001b[0;34m\u001b[0m\u001b[0;34m\u001b[0m\u001b[0m\n\u001b[0m\u001b[1;32m    483\u001b[0m \u001b[0;34m\u001b[0m\u001b[0m\n\u001b[1;32m    484\u001b[0m     \u001b[0;32mif\u001b[0m \u001b[0mchunksize\u001b[0m \u001b[0;32mor\u001b[0m \u001b[0miterator\u001b[0m\u001b[0;34m:\u001b[0m\u001b[0;34m\u001b[0m\u001b[0;34m\u001b[0m\u001b[0m\n",
      "\u001b[0;32m~/opt/anaconda3/lib/python3.8/site-packages/pandas/io/parsers/readers.py\u001b[0m in \u001b[0;36m__init__\u001b[0;34m(self, f, engine, **kwds)\u001b[0m\n\u001b[1;32m    809\u001b[0m             \u001b[0mself\u001b[0m\u001b[0;34m.\u001b[0m\u001b[0moptions\u001b[0m\u001b[0;34m[\u001b[0m\u001b[0;34m\"has_index_names\"\u001b[0m\u001b[0;34m]\u001b[0m \u001b[0;34m=\u001b[0m \u001b[0mkwds\u001b[0m\u001b[0;34m[\u001b[0m\u001b[0;34m\"has_index_names\"\u001b[0m\u001b[0;34m]\u001b[0m\u001b[0;34m\u001b[0m\u001b[0;34m\u001b[0m\u001b[0m\n\u001b[1;32m    810\u001b[0m \u001b[0;34m\u001b[0m\u001b[0m\n\u001b[0;32m--> 811\u001b[0;31m         \u001b[0mself\u001b[0m\u001b[0;34m.\u001b[0m\u001b[0m_engine\u001b[0m \u001b[0;34m=\u001b[0m \u001b[0mself\u001b[0m\u001b[0;34m.\u001b[0m\u001b[0m_make_engine\u001b[0m\u001b[0;34m(\u001b[0m\u001b[0mself\u001b[0m\u001b[0;34m.\u001b[0m\u001b[0mengine\u001b[0m\u001b[0;34m)\u001b[0m\u001b[0;34m\u001b[0m\u001b[0;34m\u001b[0m\u001b[0m\n\u001b[0m\u001b[1;32m    812\u001b[0m \u001b[0;34m\u001b[0m\u001b[0m\n\u001b[1;32m    813\u001b[0m     \u001b[0;32mdef\u001b[0m \u001b[0mclose\u001b[0m\u001b[0;34m(\u001b[0m\u001b[0mself\u001b[0m\u001b[0;34m)\u001b[0m\u001b[0;34m:\u001b[0m\u001b[0;34m\u001b[0m\u001b[0;34m\u001b[0m\u001b[0m\n",
      "\u001b[0;32m~/opt/anaconda3/lib/python3.8/site-packages/pandas/io/parsers/readers.py\u001b[0m in \u001b[0;36m_make_engine\u001b[0;34m(self, engine)\u001b[0m\n\u001b[1;32m   1038\u001b[0m             )\n\u001b[1;32m   1039\u001b[0m         \u001b[0;31m# error: Too many arguments for \"ParserBase\"\u001b[0m\u001b[0;34m\u001b[0m\u001b[0;34m\u001b[0m\u001b[0;34m\u001b[0m\u001b[0m\n\u001b[0;32m-> 1040\u001b[0;31m         \u001b[0;32mreturn\u001b[0m \u001b[0mmapping\u001b[0m\u001b[0;34m[\u001b[0m\u001b[0mengine\u001b[0m\u001b[0;34m]\u001b[0m\u001b[0;34m(\u001b[0m\u001b[0mself\u001b[0m\u001b[0;34m.\u001b[0m\u001b[0mf\u001b[0m\u001b[0;34m,\u001b[0m \u001b[0;34m**\u001b[0m\u001b[0mself\u001b[0m\u001b[0;34m.\u001b[0m\u001b[0moptions\u001b[0m\u001b[0;34m)\u001b[0m  \u001b[0;31m# type: ignore[call-arg]\u001b[0m\u001b[0;34m\u001b[0m\u001b[0;34m\u001b[0m\u001b[0m\n\u001b[0m\u001b[1;32m   1041\u001b[0m \u001b[0;34m\u001b[0m\u001b[0m\n\u001b[1;32m   1042\u001b[0m     \u001b[0;32mdef\u001b[0m \u001b[0m_failover_to_python\u001b[0m\u001b[0;34m(\u001b[0m\u001b[0mself\u001b[0m\u001b[0;34m)\u001b[0m\u001b[0;34m:\u001b[0m\u001b[0;34m\u001b[0m\u001b[0;34m\u001b[0m\u001b[0m\n",
      "\u001b[0;32m~/opt/anaconda3/lib/python3.8/site-packages/pandas/io/parsers/c_parser_wrapper.py\u001b[0m in \u001b[0;36m__init__\u001b[0;34m(self, src, **kwds)\u001b[0m\n\u001b[1;32m     49\u001b[0m \u001b[0;34m\u001b[0m\u001b[0m\n\u001b[1;32m     50\u001b[0m         \u001b[0;31m# open handles\u001b[0m\u001b[0;34m\u001b[0m\u001b[0;34m\u001b[0m\u001b[0;34m\u001b[0m\u001b[0m\n\u001b[0;32m---> 51\u001b[0;31m         \u001b[0mself\u001b[0m\u001b[0;34m.\u001b[0m\u001b[0m_open_handles\u001b[0m\u001b[0;34m(\u001b[0m\u001b[0msrc\u001b[0m\u001b[0;34m,\u001b[0m \u001b[0mkwds\u001b[0m\u001b[0;34m)\u001b[0m\u001b[0;34m\u001b[0m\u001b[0;34m\u001b[0m\u001b[0m\n\u001b[0m\u001b[1;32m     52\u001b[0m         \u001b[0;32massert\u001b[0m \u001b[0mself\u001b[0m\u001b[0;34m.\u001b[0m\u001b[0mhandles\u001b[0m \u001b[0;32mis\u001b[0m \u001b[0;32mnot\u001b[0m \u001b[0;32mNone\u001b[0m\u001b[0;34m\u001b[0m\u001b[0;34m\u001b[0m\u001b[0m\n\u001b[1;32m     53\u001b[0m \u001b[0;34m\u001b[0m\u001b[0m\n",
      "\u001b[0;32m~/opt/anaconda3/lib/python3.8/site-packages/pandas/io/parsers/base_parser.py\u001b[0m in \u001b[0;36m_open_handles\u001b[0;34m(self, src, kwds)\u001b[0m\n\u001b[1;32m    220\u001b[0m         \u001b[0mLet\u001b[0m \u001b[0mthe\u001b[0m \u001b[0mreaders\u001b[0m \u001b[0mopen\u001b[0m \u001b[0mIOHandles\u001b[0m \u001b[0mafter\u001b[0m \u001b[0mthey\u001b[0m \u001b[0mare\u001b[0m \u001b[0mdone\u001b[0m \u001b[0;32mwith\u001b[0m \u001b[0mtheir\u001b[0m \u001b[0mpotential\u001b[0m \u001b[0mraises\u001b[0m\u001b[0;34m.\u001b[0m\u001b[0;34m\u001b[0m\u001b[0;34m\u001b[0m\u001b[0m\n\u001b[1;32m    221\u001b[0m         \"\"\"\n\u001b[0;32m--> 222\u001b[0;31m         self.handles = get_handle(\n\u001b[0m\u001b[1;32m    223\u001b[0m             \u001b[0msrc\u001b[0m\u001b[0;34m,\u001b[0m\u001b[0;34m\u001b[0m\u001b[0;34m\u001b[0m\u001b[0m\n\u001b[1;32m    224\u001b[0m             \u001b[0;34m\"r\"\u001b[0m\u001b[0;34m,\u001b[0m\u001b[0;34m\u001b[0m\u001b[0;34m\u001b[0m\u001b[0m\n",
      "\u001b[0;32m~/opt/anaconda3/lib/python3.8/site-packages/pandas/io/common.py\u001b[0m in \u001b[0;36mget_handle\u001b[0;34m(path_or_buf, mode, encoding, compression, memory_map, is_text, errors, storage_options)\u001b[0m\n\u001b[1;32m    699\u001b[0m         \u001b[0;32mif\u001b[0m \u001b[0mioargs\u001b[0m\u001b[0;34m.\u001b[0m\u001b[0mencoding\u001b[0m \u001b[0;32mand\u001b[0m \u001b[0;34m\"b\"\u001b[0m \u001b[0;32mnot\u001b[0m \u001b[0;32min\u001b[0m \u001b[0mioargs\u001b[0m\u001b[0;34m.\u001b[0m\u001b[0mmode\u001b[0m\u001b[0;34m:\u001b[0m\u001b[0;34m\u001b[0m\u001b[0;34m\u001b[0m\u001b[0m\n\u001b[1;32m    700\u001b[0m             \u001b[0;31m# Encoding\u001b[0m\u001b[0;34m\u001b[0m\u001b[0;34m\u001b[0m\u001b[0;34m\u001b[0m\u001b[0m\n\u001b[0;32m--> 701\u001b[0;31m             handle = open(\n\u001b[0m\u001b[1;32m    702\u001b[0m                 \u001b[0mhandle\u001b[0m\u001b[0;34m,\u001b[0m\u001b[0;34m\u001b[0m\u001b[0;34m\u001b[0m\u001b[0m\n\u001b[1;32m    703\u001b[0m                 \u001b[0mioargs\u001b[0m\u001b[0;34m.\u001b[0m\u001b[0mmode\u001b[0m\u001b[0;34m,\u001b[0m\u001b[0;34m\u001b[0m\u001b[0;34m\u001b[0m\u001b[0m\n",
      "\u001b[0;31mFileNotFoundError\u001b[0m: [Errno 2] No such file or directory: 'data_2019.csv'"
     ]
    }
   ],
   "source": [
    "data = pd.read_csv(\"../Data/data_2019.csv\")\n",
    "\n",
    "data = data.drop('Unnamed: 0',axis = 'columns')\n",
    "\n",
    "data['Park DateTime'] = pd.to_datetime(data['Park DateTime'])\n",
    "data.set_index(\"Park DateTime\", inplace = True)\n"
   ]
  },
  {
   "cell_type": "markdown",
   "id": "a2af3239",
   "metadata": {},
   "source": [
    "# AJOUT DE VARIABLES COMPLEMENTAIRES"
   ]
  },
  {
   "cell_type": "code",
   "execution_count": null,
   "id": "02113136",
   "metadata": {},
   "outputs": [],
   "source": [
    "\n",
    "data[\"Journb\"] = pd.DatetimeIndex(data.index).dayofweek\n",
    "\n",
    "Semaine =  [\"Lundi\", \"Mardi\", \"Mercredi\", \"Jeudi\", \"Vendredi\", \"Samedi\", \"Dimanche\"]\n",
    "\n",
    "Jours = {}\n",
    "for i, jour in enumerate(Semaine):\n",
    "    Jours[i] = jour\n",
    "\n",
    "j = []\n",
    "for i in data[\"Journb\"] : \n",
    "    j.append(Jours[i])\n",
    "\n",
    "data[\"Jour\"] = j\n",
    "\n",
    "\n",
    "data['Free'] = data.Total - data.Occupated\n",
    "data[\"TauxF\"] = (data.Free/data.Total)*100\n",
    "\n",
    "data[\"Heure\"] = pd.DatetimeIndex(data.index).time\n",
    "data[\"H\"] = pd.DatetimeIndex(data.index).hour\n",
    "\n",
    "data"
   ]
  },
  {
   "cell_type": "code",
   "execution_count": null,
   "id": "d33efbb6",
   "metadata": {},
   "outputs": [],
   "source": [
    "NBV =len(data['Park Name'].unique())\n",
    "NBV\n",
    "data['Park Name'].unique()"
   ]
  },
  {
   "cell_type": "markdown",
   "id": "dfde188e",
   "metadata": {},
   "source": [
    "# PLOT PARKINGS"
   ]
  },
  {
   "cell_type": "code",
   "execution_count": null,
   "id": "9f9619f8",
   "metadata": {},
   "outputs": [],
   "source": [
    "#data.drop_duplicates(subset = \"Park DateTime\" , keep = 'first', inplace=True)\n",
    "\n",
    "#plt.figure(1, figsize=(12, 8))\n",
    "#plt.plot(sorted(data[data['Park Name'] == \"VICA\" ].index), data[data['Park Name'] == \"VICA\" ].Free)\n",
    "\n"
   ]
  },
  {
   "cell_type": "code",
   "execution_count": null,
   "id": "73cc2de4",
   "metadata": {},
   "outputs": [],
   "source": [
    "plt.figure(1, figsize=(15, 8))\n",
    "\n",
    "for station in data['Park Name'].unique() : \n",
    "    \n",
    "    #plt.plot(data[data['Park Name'] == \"ANTI\" ].Free, label = station )\n",
    "    plt.plot( sorted(data[data['Park Name'] == station ].index),data[data['Park Name'] == station ].Occupated.values, label = station )\n",
    "\n",
    "plt.legend()\n",
    "plt.show()"
   ]
  },
  {
   "cell_type": "markdown",
   "id": "f6f3b21c",
   "metadata": {},
   "source": [
    "# CREATION DE DATAFRAME PAR PARKING"
   ]
  },
  {
   "cell_type": "code",
   "execution_count": null,
   "id": "b999031c",
   "metadata": {},
   "outputs": [],
   "source": [
    "#variables = data['Park Name'].unique()\n",
    "#Stations =[]\n",
    "#NomS =[]\n",
    "#for station in variables :\n",
    "    #globals()[station] = data[data['Park Name'] ==  station]\n",
    "    #Stations.append(globals()[station])\n",
    "#Stations.columns\n"
   ]
  },
  {
   "cell_type": "code",
   "execution_count": null,
   "id": "3bbb8c34",
   "metadata": {},
   "outputs": [],
   "source": [
    "\n",
    "variables = data['Park Name'].unique()\n",
    "Stations ={}\n",
    "NomS =[]\n",
    "for station in variables :\n",
    "    globals()[station] = data[data['Park Name'] ==  station]\n",
    "    Stations[station] = (globals()[station])\n",
    "\n"
   ]
  },
  {
   "cell_type": "code",
   "execution_count": null,
   "id": "43460a53",
   "metadata": {},
   "outputs": [],
   "source": [
    "Tableau =  pd.DataFrame(data=None, columns = data.columns)\n",
    "for station in Stations : \n",
    "    Tableau = pd.concat([Tableau,Stations[station].tail(1)], ignore_index=False)\n",
    "\n",
    "d = Tableau.sort_index(axis = 0, ascending = True)\n"
   ]
  },
  {
   "cell_type": "markdown",
   "id": "993063e5",
   "metadata": {},
   "source": [
    "# PLOT PARKING \"ANTI\""
   ]
  },
  {
   "cell_type": "code",
   "execution_count": null,
   "id": "89e92800",
   "metadata": {},
   "outputs": [],
   "source": [
    "#la moyenne des occuppations par jour\n",
    "#data[\"Heure\"] = pd.DatetimeIndex(data.index).time\n",
    "\n",
    "ANTI2 = ANTI.groupby([\"Jour\",\"Heure\"]).mean()\n",
    "\n",
    "#sns.relplot(data=ANTI2, kind=\"line\",x = \"Heure\", y=\"Occupated\", col = \"Jour\",hue=\"Jour\", style=\"Jour\")\n",
    "#plt.gcf().set_size_inches(15, 8)\n",
    "\n",
    "ax = ANTI2.Free.unstack(level=0).plot(kind='line', subplots=False, rot=0, figsize=(9, 7))\n",
    "plt.axhline(y=max(ANTI2.Total))\n",
    "\n",
    "plt.tight_layout()\n",
    "plt.title (\"Nombre moyen de places libre dans le parking ANTI\")\n",
    "\n",
    "\n",
    "plt.savefig(\"NBFreemoyenANTI\", dpi=700)\n"
   ]
  },
  {
   "cell_type": "code",
   "execution_count": null,
   "id": "b5e31ea8",
   "metadata": {},
   "outputs": [],
   "source": [
    "# HEATMAP AFFLUENCE (TAUX )"
   ]
  },
  {
   "cell_type": "code",
   "execution_count": null,
   "id": "cdb2b2aa",
   "metadata": {},
   "outputs": [],
   "source": [
    "#ax = ANTI3.TauxF.unstack(level=0).plot(kind='line', subplots=False, rot=0, figsize=(9, 7))\n",
    "#plt.tight_layout()\n",
    "\n",
    "plt.figure(figsize = (9,7))\n",
    "ax = sns.heatmap(ANTI2.TauxF.unstack(level=0))\n",
    "plt.title (\"Taux places libre dans le parking ANTI\")\n",
    "\n",
    "plt.savefig(\"TauxFree \", dpi=700)"
   ]
  },
  {
   "cell_type": "code",
   "execution_count": null,
   "id": "b1039026",
   "metadata": {},
   "outputs": [],
   "source": [
    "for station in Stations :\n",
    "    df = Stations[station]\n",
    "    df = df.drop(['Park Name', 'x_pos','y_pos','H'], axis=1)\n",
    "    df[\"Date\"] = pd.DatetimeIndex(df.index).date\n",
    "    df.to_csv(\"/Users/araziissouffou/Documents/COURS/M1/TER/Marathon_web/Data/Parking/\"+station+\".csv\", encoding='utf-8')"
   ]
  },
  {
   "cell_type": "code",
   "execution_count": null,
   "id": "89da477c",
   "metadata": {},
   "outputs": [],
   "source": [
    "df = Stations[\"ANTI\"]\n",
    "df = df.drop(['Park Name', 'x_pos','y_pos','H'], axis=1, inplace =True)\n",
    "df[\"Date\"] = pd.DatetimeIndex(df.index).date\n",
    "df"
   ]
  },
  {
   "cell_type": "code",
   "execution_count": null,
   "id": "a265f12c",
   "metadata": {},
   "outputs": [],
   "source": [
    "for station in Stations :\n",
    "    df = Stations[station].groupby([\"Jour\",\"Heure\"]).mean()\n",
    "    df = df.Free.unstack(level=0)\n",
    "    \n",
    "    df.to_csv(\"MoyenFreeJH\"+station+\".csv\", encoding='utf-8')\n",
    "\n"
   ]
  },
  {
   "cell_type": "code",
   "execution_count": null,
   "id": "a70ec471",
   "metadata": {},
   "outputs": [],
   "source": [
    "import seaborn as sns\n",
    "\n",
    "#plt.figure(1, figsize=(15, 8))\n",
    "#sns.displot(data=ANTI, kind=\"ecdf\", x=ANTI.index, hue=\"Jour\", rug=True)\n",
    "sns.relplot(\n",
    "    data=ANTI3, kind=\"line\",\n",
    "    x = \"H\", y=\"TauxF\",\n",
    "    hue=\"Jour\", style=\"Jour\",\n",
    ")\n",
    "plt.gcf().set_size_inches(15, 8)\n",
    "\n"
   ]
  }
 ],
 "metadata": {
  "kernelspec": {
   "display_name": "Python 3",
   "language": "python",
   "name": "python3"
  },
  "language_info": {
   "codemirror_mode": {
    "name": "ipython",
    "version": 3
   },
   "file_extension": ".py",
   "mimetype": "text/x-python",
   "name": "python",
   "nbconvert_exporter": "python",
   "pygments_lexer": "ipython3",
   "version": "3.8.8"
  }
 },
 "nbformat": 4,
 "nbformat_minor": 5
}
