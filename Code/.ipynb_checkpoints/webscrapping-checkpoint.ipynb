{
 "cells": [
  {
   "cell_type": "code",
   "execution_count": 1,
   "id": "c939e8e8-e9e6-42df-8c67-f2e27e1d11d3",
   "metadata": {},
   "outputs": [],
   "source": [
    "import json"
   ]
  },
  {
   "cell_type": "code",
   "execution_count": 2,
   "id": "ae783c1b-d66c-4e78-a99e-72dcf749c07f",
   "metadata": {},
   "outputs": [],
   "source": [
    "import pandas as pd"
   ]
  },
  {
   "cell_type": "code",
   "execution_count": 8,
   "id": "9adcae90-8f67-43a9-b3a1-4e8e41832fed",
   "metadata": {},
   "outputs": [],
   "source": [
    "import xmltodict"
   ]
  },
  {
   "cell_type": "code",
   "execution_count": 3,
   "id": "ced3e601-2c33-4bc2-b530-ef46125826c1",
   "metadata": {},
   "outputs": [],
   "source": [
    "import requests"
   ]
  },
  {
   "cell_type": "code",
   "execution_count": 4,
   "id": "f925e2cf-2a73-4246-9a59-20dc55677176",
   "metadata": {},
   "outputs": [],
   "source": [
    "re = requests.get('https://data.montpellier3m.fr/sites/default/files/ressources/VilleMTP_MTP_ParkingOuv.xls')"
   ]
  },
  {
   "cell_type": "code",
   "execution_count": 5,
   "id": "2bcb7abe-b61d-49e7-84d4-7743667b2d52",
   "metadata": {},
   "outputs": [],
   "source": [
    "df = pd.read_excel('https://data.montpellier3m.fr/sites/default/files/ressources/VilleMTP_MTP_ParkingOuv.xls')"
   ]
  },
  {
   "cell_type": "code",
   "execution_count": 13,
   "id": "13b0f6c0-4d0d-4026-ae7b-20a5479f97d9",
   "metadata": {},
   "outputs": [
    {
     "data": {
      "text/plain": [
       "23"
      ]
     },
     "execution_count": 13,
     "metadata": {},
     "output_type": "execute_result"
    }
   ],
   "source": [
    "len(geo_loc_parking)"
   ]
  },
  {
   "cell_type": "code",
   "execution_count": 6,
   "id": "827748c3-1a93-41bd-bca1-c6cdd29c24fd",
   "metadata": {},
   "outputs": [],
   "source": [
    "geo_loc_parking = {\n",
    "    'ANTI' : [3.888819,43.608716,'MTP'],\n",
    "    'COME' : [3.879762,43.608561,'MTP'],\n",
    "    'CORU' : [3.882258,43.613888,'MTP'],\n",
    "    'EURO' : [3.892531,43.607850,'MTP'],\n",
    "    'FOCH' : [3.876571,43.610749,'MTP'],\n",
    "    'GAMB' : [3.871374,43.606951,'MTP'],\n",
    "    'GARE' : [3.878551,43.603291,'MTP'],\n",
    "    'TRIA' : [3.881844,43.609234,'MTP'],\n",
    "    'ARCT' : [3.873201,43.611003,'MTP'],\n",
    "    'PITO' : [3.870191,43.612245,'MTP'],\n",
    "    'CIRC' : [3.917849,43.604954,'MTP'],\n",
    "    'SABI' : [3.860225,43.583833,'MTP'],\n",
    "    'GARC' : [3.890716,43.590985,'MTP'],\n",
    "    'SABL' : [3.922295,43.634192,'MTP'],\n",
    "    'MOSS' : [3.819666,43.616237,'MTP'],\n",
    "    'SJLC' : [3.837931,43.570822,'STJ'],\n",
    "    'MEDC' : [3.827724,43.638954,'MTP'],\n",
    "    'OCCI' : [3.848598,43.634562,'MTP'],\n",
    "    'VICA' : [3.898426,43.632771,'CAS'],\n",
    "    'GA250' : [3.914415,43.605344,'MTP'],\n",
    "    'CDGA' : [3.897762,43.628542,'CAS'],\n",
    "    'ARCE' : [3.867491,43.611716,'MTP'],\n",
    "    'POLY' : [3.884765,43.608371,'MTP']}"
   ]
  },
  {
   "cell_type": "code",
   "execution_count": 9,
   "id": "9e9ab2f0-9722-44b6-92b6-fd82df4beaa8",
   "metadata": {},
   "outputs": [],
   "source": [
    "dic_park = {}\n",
    "for nom_parking in geo_loc_parking:\n",
    "    dic_park[nom_parking] = {}\n",
    "    dic_park[nom_parking]['Xlong'] = geo_loc_parking[nom_parking][0]\n",
    "    dic_park[nom_parking]['Ylat'] = geo_loc_parking[nom_parking][1]\n",
    "    \n",
    "    dict_data = xmltodict.parse(requests.get('https://data.montpellier3m.fr/sites/default/files/ressources/FR_'+geo_loc_parking[nom_parking][2]+'_'+nom_parking+'.xml').content)\n",
    "    \n",
    "    dic_park[nom_parking]['DateTime'] = dict_data['park']['DateTime']\n",
    "    dic_park[nom_parking]['Status'] = dict_data['park']['Status']\n",
    "    dic_park[nom_parking]['Free'] = dict_data['park']['Free']\n",
    "    dic_park[nom_parking]['Total'] = dict_data['park']['Total']\n"
   ]
  },
  {
   "cell_type": "code",
   "execution_count": 12,
   "id": "b66412d5-0871-4957-8483-ea1e0c40c976",
   "metadata": {},
   "outputs": [
    {
     "data": {
      "text/plain": [
       "{'ANTI': {'Xlong': 3.888819,\n",
       "  'Ylat': 43.608716,\n",
       "  'DateTime': '2022-03-08T13:11:50',\n",
       "  'Status': 'Open',\n",
       "  'Free': '0139',\n",
       "  'Total': '0239'},\n",
       " 'COME': {'Xlong': 3.879762,\n",
       "  'Ylat': 43.608561,\n",
       "  'DateTime': '2022-03-08T13:11:50',\n",
       "  'Status': 'Open',\n",
       "  'Free': '0288',\n",
       "  'Total': '0835'},\n",
       " 'CORU': {'Xlong': 3.882258,\n",
       "  'Ylat': 43.613888,\n",
       "  'DateTime': '2022-03-08T13:14:56',\n",
       "  'Status': 'Open',\n",
       "  'Free': '0208',\n",
       "  'Total': '0450'},\n",
       " 'EURO': {'Xlong': 3.892531,\n",
       "  'Ylat': 43.60785,\n",
       "  'DateTime': '2022-03-08T13:11:52',\n",
       "  'Status': 'Open',\n",
       "  'Free': '0286',\n",
       "  'Total': '0593'},\n",
       " 'FOCH': {'Xlong': 3.876571,\n",
       "  'Ylat': 43.610749,\n",
       "  'DateTime': '2022-03-08T13:09:54',\n",
       "  'Status': 'Open',\n",
       "  'Free': '0135',\n",
       "  'Total': '0545'},\n",
       " 'GAMB': {'Xlong': 3.871374,\n",
       "  'Ylat': 43.606951,\n",
       "  'DateTime': '2022-03-08T13:11:50',\n",
       "  'Status': 'Open',\n",
       "  'Free': '0146',\n",
       "  'Total': '0456'},\n",
       " 'GARE': {'Xlong': 3.878551,\n",
       "  'Ylat': 43.603291,\n",
       "  'DateTime': '2022-03-08T13:12:03',\n",
       "  'Status': 'Open',\n",
       "  'Free': '196',\n",
       "  'Total': '656'},\n",
       " 'TRIA': {'Xlong': 3.881844,\n",
       "  'Ylat': 43.609234,\n",
       "  'DateTime': '2022-03-08T13:14:10.047',\n",
       "  'Status': 'Open',\n",
       "  'Free': '84',\n",
       "  'Total': '436'},\n",
       " 'ARCT': {'Xlong': 3.873201,\n",
       "  'Ylat': 43.611003,\n",
       "  'DateTime': '2022-03-08T13:09:59',\n",
       "  'Status': 'Open',\n",
       "  'Free': '0093',\n",
       "  'Total': '0450'},\n",
       " 'PITO': {'Xlong': 3.870191,\n",
       "  'Ylat': 43.612245,\n",
       "  'DateTime': '2022-03-08T13:13:09.961',\n",
       "  'Status': 'Open',\n",
       "  'Free': '302',\n",
       "  'Total': '588'},\n",
       " 'CIRC': {'Xlong': 3.917849,\n",
       "  'Ylat': 43.604954,\n",
       "  'DateTime': '2018-05-30T14:02:56',\n",
       "  'Status': 'Open',\n",
       "  'Free': '0585',\n",
       "  'Total': '1200'},\n",
       " 'SABI': {'Xlong': 3.860225,\n",
       "  'Ylat': 43.583833,\n",
       "  'DateTime': '2022-03-08T13:11:55',\n",
       "  'Status': 'Open',\n",
       "  'Free': '0197',\n",
       "  'Total': '0485'},\n",
       " 'GARC': {'Xlong': 3.890716,\n",
       "  'Ylat': 43.590985,\n",
       "  'DateTime': '2022-03-08T13:13:55',\n",
       "  'Status': 'Open',\n",
       "  'Free': '0172',\n",
       "  'Total': '0395'},\n",
       " 'SABL': {'Xlong': 3.922295,\n",
       "  'Ylat': 43.634192,\n",
       "  'DateTime': '2022-03-08T13:09:59',\n",
       "  'Status': 'Open',\n",
       "  'Free': '0151',\n",
       "  'Total': '0372'},\n",
       " 'MOSS': {'Xlong': 3.819666,\n",
       "  'Ylat': 43.616237,\n",
       "  'DateTime': '2022-03-08T13:13:09',\n",
       "  'Status': 'Open',\n",
       "  'Free': '0230',\n",
       "  'Total': '0423'},\n",
       " 'SJLC': {'Xlong': 3.837931,\n",
       "  'Ylat': 43.570822,\n",
       "  'DateTime': '2022-03-08T13:09:58',\n",
       "  'Status': 'Open',\n",
       "  'Free': '0145',\n",
       "  'Total': '0290'},\n",
       " 'MEDC': {'Xlong': 3.827724,\n",
       "  'Ylat': 43.638954,\n",
       "  'DateTime': '2022-03-08T13:10:59',\n",
       "  'Status': 'Open',\n",
       "  'Free': '0138',\n",
       "  'Total': '0255'},\n",
       " 'OCCI': {'Xlong': 3.848598,\n",
       "  'Ylat': 43.634562,\n",
       "  'DateTime': '2022-03-08T13:09:50',\n",
       "  'Status': 'Open',\n",
       "  'Free': '0142',\n",
       "  'Total': '0627'},\n",
       " 'VICA': {'Xlong': 3.898426,\n",
       "  'Ylat': 43.632771,\n",
       "  'DateTime': '2022-03-08T13:12:53',\n",
       "  'Status': 'Open',\n",
       "  'Free': '0059',\n",
       "  'Total': '0094'},\n",
       " 'GA250': {'Xlong': 3.914415,\n",
       "  'Ylat': 43.605344,\n",
       "  'DateTime': '2022-03-08T13:11:28',\n",
       "  'Status': 'Open',\n",
       "  'Free': '0209',\n",
       "  'Total': '0250'},\n",
       " 'CDGA': {'Xlong': 3.897762,\n",
       "  'Ylat': 43.628542,\n",
       "  'DateTime': '2022-03-08T13:09:59',\n",
       "  'Status': 'Open',\n",
       "  'Free': '0156',\n",
       "  'Total': '0260'},\n",
       " 'ARCE': {'Xlong': 3.867491,\n",
       "  'Ylat': 43.611716,\n",
       "  'DateTime': '2022-03-08T13:11:51',\n",
       "  'Status': 'Open',\n",
       "  'Free': '0053',\n",
       "  'Total': '0208'},\n",
       " 'POLY': {'Xlong': 3.884765,\n",
       "  'Ylat': 43.608371,\n",
       "  'DateTime': '2022-03-08T13:13:36.601725300',\n",
       "  'Status': 'Open',\n",
       "  'Free': '1053',\n",
       "  'Total': '1911'}}"
      ]
     },
     "execution_count": 12,
     "metadata": {},
     "output_type": "execute_result"
    }
   ],
   "source": [
    "dic_park"
   ]
  },
  {
   "cell_type": "code",
   "execution_count": null,
   "id": "2d1670fa-0050-4614-a8a5-85736adba44d",
   "metadata": {},
   "outputs": [],
   "source": []
  }
 ],
 "metadata": {
  "kernelspec": {
   "display_name": "Python 3",
   "language": "python",
   "name": "python3"
  },
  "language_info": {
   "codemirror_mode": {
    "name": "ipython",
    "version": 3
   },
   "file_extension": ".py",
   "mimetype": "text/x-python",
   "name": "python",
   "nbconvert_exporter": "python",
   "pygments_lexer": "ipython3",
   "version": "3.8.8"
  }
 },
 "nbformat": 4,
 "nbformat_minor": 5
}
