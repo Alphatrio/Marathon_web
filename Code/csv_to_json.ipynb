{
 "cells": [
  {
   "cell_type": "code",
   "execution_count": 6,
   "id": "c25576dc",
   "metadata": {},
   "outputs": [],
   "source": [
    "import pandas as pd\n",
    "import json\n",
    "import datetime"
   ]
  },
  {
   "cell_type": "code",
   "execution_count": 2,
   "id": "f4918cc9",
   "metadata": {},
   "outputs": [
    {
     "name": "stdout",
     "output_type": "stream",
     "text": [
      "       Park Name        Park DateTime Park Status  Occupated  Total     x_pos  \\\n",
      "0           ANTI  01/01/2019 01:00:00        Open         36    239  3.888819   \n",
      "1           ANTI  01/01/2019 01:20:00        Open         34    239  3.888819   \n",
      "2           ANTI  01/01/2019 01:40:00        Open         34    239  3.888819   \n",
      "3           ANTI  01/01/2019 02:00:00        Open         30    239  3.888819   \n",
      "4           ANTI  01/01/2019 02:20:00        Open         29    239  3.888819   \n",
      "...          ...                  ...         ...        ...    ...       ...   \n",
      "409372      VICA  31/12/2019 23:20:00        Open         10    150  3.898426   \n",
      "409373      VICA  31/12/2019 23:40:00        Open         10    150  3.898426   \n",
      "409374      VICA  01/01/2020 00:00:00        Open         10    150  3.898426   \n",
      "409375      VICA  01/01/2020 00:20:00        Open         10    150  3.898426   \n",
      "409376      VICA  01/01/2020 00:40:00        Open         10    150  3.898426   \n",
      "\n",
      "            y_pos  \n",
      "0       43.608716  \n",
      "1       43.608716  \n",
      "2       43.608716  \n",
      "3       43.608716  \n",
      "4       43.608716  \n",
      "...           ...  \n",
      "409372  43.632771  \n",
      "409373  43.632771  \n",
      "409374  43.632771  \n",
      "409375  43.632771  \n",
      "409376  43.632771  \n",
      "\n",
      "[409377 rows x 7 columns]\n"
     ]
    }
   ],
   "source": [
    "data = pd.read_csv('../Data/data_2019.csv')\n",
    "data = data.drop(['Unnamed: 0'],axis=1)\n",
    "print(data)"
   ]
  },
  {
   "cell_type": "code",
   "execution_count": 3,
   "id": "226321ef",
   "metadata": {},
   "outputs": [],
   "source": [
    "data.to_json(\"../Data/test_index.json\", orient = \"index\")"
   ]
  },
  {
   "cell_type": "code",
   "execution_count": 4,
   "id": "fb620819",
   "metadata": {},
   "outputs": [
    {
     "name": "stdout",
     "output_type": "stream",
     "text": [
      "{\n",
      " \"0\": {\n",
      "  \"Park Name\": \"ANTI\",\n",
      "  \"Park DateTime\": \"01/01/2019 01:00:00\",\n",
      "  \"Park Status\": \"Open\",\n",
      "  \"Occupated\": 36,\n",
      "  \"Total\": 239,\n",
      "  \"x_pos\": 3.888819,\n",
      "  \"y_pos\": 43.608716\n",
      " },\n",
      " \"1\": {\n",
      "  \"Park Name\": \"ANTI\",\n",
      "  \"Park DateTime\": \"01/01/2019 01:20:00\",\n",
      "  \"Park Status\": \"Open\",\n",
      "  \"Occupated\": 34,\n",
      "  \"Total\": 239,\n",
      "  \"x_pos\": 3.888819,\n",
      "  \"y_pos\": 43.608716\n",
      " }\n",
      "}\n"
     ]
    }
   ],
   "source": [
    "small_data = data[0:2]\n",
    "result = small_data.to_json(orient = 'index')\n",
    "parsed = json.loads(result)\n",
    "print(json.dumps(parsed, indent=1))"
   ]
  },
  {
   "cell_type": "code",
   "execution_count": 11,
   "id": "ebfa9801",
   "metadata": {},
   "outputs": [
    {
     "name": "stdout",
     "output_type": "stream",
     "text": [
      "25322\n",
      "<class 'numpy.ndarray'>\n",
      "<class 'str'>\n",
      "2019-01-01 01:00:00\n",
      "<class 'datetime.datetime'>\n"
     ]
    }
   ],
   "source": [
    "time = data['Park DateTime'].unique()\n",
    "date_time_str = time[0]\n",
    "date_time_obj = datetime.datetime.strptime(date_time_str, '%d/%m/%Y %H:%M:%S')\n",
    "print(len(time))\n",
    "print(type(time))\n",
    "print(type(time[0]))\n",
    "print(date_time_obj)\n",
    "print(type(date_time_obj))"
   ]
  },
  {
   "cell_type": "code",
   "execution_count": 6,
   "id": "ea872fe9",
   "metadata": {},
   "outputs": [
    {
     "name": "stdout",
     "output_type": "stream",
     "text": [
      "[['ANTI'], ['ARCT'], ['CDGA'], ['CIRC'], ['COME'], ['CORU'], ['EURO'], ['FOCH'], ['GAMB'], ['GARC'], ['GARE'], ['GA250'], ['MEDC'], ['MOSS'], ['OCCI'], ['PITO'], ['SABI'], ['SABL'], ['SJLC'], ['TRIA'], ['VICA']]\n"
     ]
    }
   ],
   "source": [
    "all_parking = []\n",
    "variables = data['Park Name'].unique()\n",
    "for station in variables : \n",
    "    globals()[station] = []\n",
    "    globals()[station].append(station)\n",
    "    all_parking.append(globals()[station])\n",
    "    \n",
    "print(all_parking)"
   ]
  },
  {
   "cell_type": "code",
   "execution_count": null,
   "id": "cda781a4",
   "metadata": {},
   "outputs": [],
   "source": [
    "for row in data.index:\n",
    "    for station in all_parking:\n",
    "        if data['Park Name'][row]==station[0]:\n",
    "            for column in data[['Park Name','Park Status','Occupated','Total','x_pos','y_pos']]:\n",
    "                station.append(data[column].values[row])\n",
    "                \n",
    "        \n",
    "  "
   ]
  },
  {
   "cell_type": "code",
   "execution_count": null,
   "id": "4fad29fb",
   "metadata": {},
   "outputs": [],
   "source": [
    "small_data = data[0:5]\n",
    "for row in small_data.index:\n",
    "    for column in small_data[['Park Name', 'Park Status']]:\n",
    "        print(small_data[column].values[row])"
   ]
  },
  {
   "cell_type": "code",
   "execution_count": null,
   "id": "85ce9071",
   "metadata": {},
   "outputs": [],
   "source": []
  }
 ],
 "metadata": {
  "kernelspec": {
   "display_name": "Python 3",
   "language": "python",
   "name": "python3"
  },
  "language_info": {
   "codemirror_mode": {
    "name": "ipython",
    "version": 3
   },
   "file_extension": ".py",
   "mimetype": "text/x-python",
   "name": "python",
   "nbconvert_exporter": "python",
   "pygments_lexer": "ipython3",
   "version": "3.8.8"
  }
 },
 "nbformat": 4,
 "nbformat_minor": 5
}
